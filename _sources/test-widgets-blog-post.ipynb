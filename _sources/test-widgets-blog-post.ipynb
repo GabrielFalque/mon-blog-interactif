{
 "cells": [
  {
   "cell_type": "markdown",
   "id": "3822559b-a7a4-40e0-9d06-8ce64421f908",
   "metadata": {
    "editable": true,
    "raw_mimetype": "",
    "slideshow": {
     "slide_type": ""
    },
    "tags": []
   },
   "source": [
    "# Mon Titre Test Depuis le Notebook"
   ]
  },
  {
   "cell_type": "code",
   "execution_count": 4,
   "id": "ee282277-ee15-48c1-aaf2-b9831b4ec814",
   "metadata": {
    "editable": true,
    "slideshow": {
     "slide_type": ""
    },
    "tags": [
     "remove-input"
    ]
   },
   "outputs": [
    {
     "data": {
      "application/vnd.jupyter.widget-view+json": {
       "model_id": "ab457bdf37b74d05a9445459b74f554f",
       "version_major": 2,
       "version_minor": 0
      },
      "text/plain": [
       "Output()"
      ]
     },
     "metadata": {},
     "output_type": "display_data"
    },
    {
     "data": {
      "application/vnd.jupyter.widget-view+json": {
       "model_id": "5540a2fdd48c43b5b65d1223a6aa0a5f",
       "version_major": 2,
       "version_minor": 0
      },
      "text/plain": [
       "IntSlider(value=0, description='Value:', max=10)"
      ]
     },
     "metadata": {},
     "output_type": "display_data"
    }
   ],
   "source": [
    "from ipywidgets import IntSlider, Output\n",
    "from IPython.display import display\n",
    "\n",
    "output_test = Output()\n",
    "display(output_test)\n",
    "\n",
    "slider = IntSlider(min=0, max=10, step=1, description='Value:')\n",
    "\n",
    "def update_output(change):\n",
    "    with output_test:\n",
    "        output_test.clear_output()\n",
    "        print(f\"Le slider est à : {change.new}\")\n",
    "\n",
    "slider.observe(update_output, names='value')\n",
    "\n",
    "display(slider) # Affichez explicitement le slider"
   ]
  },
  {
   "cell_type": "code",
   "execution_count": null,
   "id": "61f6d1eb-c0fe-4cf1-aac5-f8cf16aabbdb",
   "metadata": {
    "editable": true,
    "slideshow": {
     "slide_type": ""
    },
    "tags": []
   },
   "outputs": [],
   "source": []
  }
 ],
 "metadata": {
  "kernelspec": {
   "display_name": "Python 3 (ipykernel)",
   "language": "python",
   "name": "python3"
  },
  "language_info": {
   "codemirror_mode": {
    "name": "ipython",
    "version": 3
   },
   "file_extension": ".py",
   "mimetype": "text/x-python",
   "name": "python",
   "nbconvert_exporter": "python",
   "pygments_lexer": "ipython3",
   "version": "3.12.2"
  }
 },
 "nbformat": 4,
 "nbformat_minor": 5
}
